{
 "cells": [
  {
   "cell_type": "code",
   "execution_count": 23,
   "metadata": {},
   "outputs": [],
   "source": [
    "from torchvision import transforms\n",
    "from torchvision.models import resnet50, ResNet50_Weights\n",
    "import torch\n",
    "import pickle\n",
    "import os\n",
    "from PIL import Image\n",
    "from tqdm.auto import tqdm"
   ]
  },
  {
   "cell_type": "code",
   "execution_count": 15,
   "metadata": {},
   "outputs": [
    {
     "data": {
      "text/plain": [
       "'1.26.0'"
      ]
     },
     "execution_count": 15,
     "metadata": {},
     "output_type": "execute_result"
    }
   ],
   "source": [
    "import numpy\n",
    "numpy.__version__"
   ]
  },
  {
   "cell_type": "code",
   "execution_count": 16,
   "metadata": {},
   "outputs": [],
   "source": [
    "# set model\n",
    "device = \"cuda\" if torch.cuda.is_available() else \"cpu\"\n",
    "\n",
    "model = resnet50(weights=ResNet50_Weights.DEFAULT).to(device).eval()"
   ]
  },
  {
   "cell_type": "code",
   "execution_count": 17,
   "metadata": {},
   "outputs": [],
   "source": [
    "# remove fc layer\n",
    "\n",
    "embedd_model = torch.nn.Sequential(*list(model.children())[:-1])"
   ]
  },
  {
   "cell_type": "code",
   "execution_count": 18,
   "metadata": {},
   "outputs": [],
   "source": [
    "# set imagenet transforms\n",
    "\n",
    "image_transforms = transforms.Compose(\n",
    "    [\n",
    "        transforms.Resize((256, 256)),\n",
    "        transforms.CenterCrop(224),\n",
    "        transforms.ToTensor(),\n",
    "        transforms.Normalize(mean=[0.485, 0.456, 0.406], std=[0.229, 0.224, 0.225]),\n",
    "    ]\n",
    ")"
   ]
  },
  {
   "cell_type": "code",
   "execution_count": 19,
   "metadata": {},
   "outputs": [
    {
     "name": "stderr",
     "output_type": "stream",
     "text": [
      "100%|██████████| 5/5 [04:37<00:00, 55.50s/it]"
     ]
    },
    {
     "name": "stdout",
     "output_type": "stream",
     "text": [
      "[INFO] Done!\n"
     ]
    },
    {
     "name": "stderr",
     "output_type": "stream",
     "text": [
      "\n"
     ]
    }
   ],
   "source": [
    "dataset_path = \"../data/dataset\"\n",
    "features_lst = []\n",
    "\n",
    "for fldr in tqdm(os.listdir(dataset_path)):\n",
    "    fldr_path = os.path.join(dataset_path, fldr)\n",
    "    for img in os.listdir(fldr_path):\n",
    "        img_path = os.path.join(fldr_path, img)\n",
    "        init_image = Image.open(img_path).convert(\"RGB\")\n",
    "        image = image_transforms(init_image).to(device)\n",
    "        \n",
    "        with torch.inference_mode():\n",
    "            image_feat = embedd_model(image.unsqueeze(0)).squeeze(0).view(-1)\n",
    "            image_feat = image_feat.cpu().numpy()\n",
    "            \n",
    "        image_data = {\n",
    "            \"path\": img_path,\n",
    "            \"features\": image_feat,\n",
    "        }\n",
    "        \n",
    "        features_lst.append(image_data)\n",
    "        \n",
    "print(\"[INFO] Done!\")"
   ]
  },
  {
   "cell_type": "code",
   "execution_count": 24,
   "metadata": {},
   "outputs": [],
   "source": [
    "# save features data to json file\n",
    "\n",
    "feat_data_path = \"../data/features.pkl\"\n",
    "\n",
    "with open(feat_data_path, \"wb\") as f:\n",
    "    pickle.dump(features_lst, f)"
   ]
  }
 ],
 "metadata": {
  "kernelspec": {
   "display_name": ".env",
   "language": "python",
   "name": "python3"
  },
  "language_info": {
   "codemirror_mode": {
    "name": "ipython",
    "version": 3
   },
   "file_extension": ".py",
   "mimetype": "text/x-python",
   "name": "python",
   "nbconvert_exporter": "python",
   "pygments_lexer": "ipython3",
   "version": "3.11.5"
  }
 },
 "nbformat": 4,
 "nbformat_minor": 2
}
